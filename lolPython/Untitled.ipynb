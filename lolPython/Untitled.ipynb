{
 "cells": [
  {
   "cell_type": "code",
   "execution_count": 5,
   "metadata": {},
   "outputs": [
    {
     "ename": "ImportError",
     "evalue": "No module named request",
     "output_type": "error",
     "traceback": [
      "\u001b[0;31m---------------------------------------------------------------------------\u001b[0m",
      "\u001b[0;31mImportError\u001b[0m                               Traceback (most recent call last)",
      "\u001b[0;32m<ipython-input-5-38a6460afc00>\u001b[0m in \u001b[0;36m<module>\u001b[0;34m()\u001b[0m\n\u001b[0;32m----> 1\u001b[0;31m \u001b[0;32mimport\u001b[0m \u001b[0murllib\u001b[0m\u001b[0;34m.\u001b[0m\u001b[0mrequest\u001b[0m\u001b[0;34m\u001b[0m\u001b[0m\n\u001b[0m\u001b[1;32m      2\u001b[0m \u001b[0;32mimport\u001b[0m \u001b[0mjson\u001b[0m\u001b[0;34m\u001b[0m\u001b[0m\n\u001b[1;32m      3\u001b[0m \u001b[0;34m\u001b[0m\u001b[0m\n\u001b[1;32m      4\u001b[0m \u001b[0minput_name\u001b[0m\u001b[0;34m=\u001b[0m\u001b[0;34m\"hide on bush\"\u001b[0m\u001b[0;34m\u001b[0m\u001b[0m\n\u001b[1;32m      5\u001b[0m \u001b[0;32mdef\u001b[0m \u001b[0mget_encryptedID\u001b[0m\u001b[0;34m(\u001b[0m\u001b[0minput_name\u001b[0m\u001b[0;34m)\u001b[0m\u001b[0;34m:\u001b[0m\u001b[0;34m\u001b[0m\u001b[0m\n",
      "\u001b[0;31mImportError\u001b[0m: No module named request"
     ]
    }
   ],
   "source": [
    "import urllib.request\n",
    "import json\n",
    "\n",
    "input_name=\"hide on bush\"\n",
    "def get_encryptedID(input_name):\n",
    "    apikey = \"RGAPI-775febda-458a-4d19-871b-5ac0e91f1d4f\"\n",
    "    encode_name = input_name.replace(\" \", \"%20\")\n",
    "    urls = 'https://kr.api.riotgames.com/lol/summoner/v4/summoners/by-name/' + encode_name + '?api_key=' + apikey\n",
    "\n",
    "    if(urllib.request.urlopen(urls).getcode() == 200):\n",
    "        urls_data = urllib.request.urlopen(urls)                    # url을 열어온 정보\n",
    "        dict_data = data_process(urls_data)                                     #url정보 -> dict\n",
    "        return dict_data['id'], dict_data['name']\n",
    "    else:\n",
    "        return -1, -1\n",
    "\n",
    "def print_info(dict_data):\n",
    "    print(dict_data['tier'], dict_data['rank'])\n",
    "    print(\"승 :\", dict_data['wins'], \"패 :\", dict_data['losses'], \"승률 :\", round(dict_data['wins']/(dict_data['wins']+dict_data['losses'])*100, 2), \"%\" )\n",
    "\n",
    "def print_unrank():\n",
    "    print(\"Unrank\")\n",
    "\n",
    "def data_process(f):\n",
    "    jsonString = f.read().decode(\"utf-8\")\n",
    "    if(len(jsonString) < 10):\n",
    "        return False\n",
    "    #print(\"jsonstring : \", jsonString)\n",
    "\n",
    "    if(type(json.loads(jsonString)) == list):\n",
    "        data = json.loads(jsonString)[0]\n",
    "    elif(type(json.loads(jsonString)) == dict):\n",
    "        data = json.loads(jsonString)\n",
    "    #print(data)\n",
    "    return data\n",
    "\n",
    "def get_summoner_data(encryptedID):\n",
    "    apikey = \"api키값입니다.\"\n",
    "    urls = 'https://kr.api.riotgames.com/lol/league/v4/entries/by-summoner/' + encryptedID + '?api_key=' + apikey\n",
    "    urls_data = urllib.request.urlopen(urls)                    # url을 열어온 정보\n",
    "    dict_data = data_process(urls_data)                     # url정보 -> dict\n",
    "    if(dict_data == False):\n",
    "        print_unrank()\n",
    "    else:\n",
    "        print_info(dict_data)\n",
    "\n",
    "def run():\n",
    "    #summoner_name = str(input())\n",
    "    summoner_name = \"Hide on bush\"\n",
    "    encryptedID, summoner_name = get_encryptedID(summoner_name)\n",
    "    if(encryptedID == -1):\n",
    "        print(\"Data not found - summoner not found\")\n",
    "    print(summoner_name)\n",
    "    get_summoner_data(encryptedID)\n",
    "\n",
    "    \n",
    "\n",
    "run()\n"
   ]
  },
  {
   "cell_type": "code",
   "execution_count": 8,
   "metadata": {},
   "outputs": [
    {
     "ename": "ImportError",
     "evalue": "No module named request",
     "output_type": "error",
     "traceback": [
      "\u001b[0;31m---------------------------------------------------------------------------\u001b[0m",
      "\u001b[0;31mImportError\u001b[0m                               Traceback (most recent call last)",
      "\u001b[0;32m<ipython-input-8-2936ccc2ea67>\u001b[0m in \u001b[0;36m<module>\u001b[0;34m()\u001b[0m\n\u001b[0;32m----> 1\u001b[0;31m \u001b[0;32mimport\u001b[0m \u001b[0murllib\u001b[0m\u001b[0;34m.\u001b[0m\u001b[0mrequest\u001b[0m\u001b[0;34m\u001b[0m\u001b[0m\n\u001b[0m\u001b[1;32m      2\u001b[0m \u001b[0;32mimport\u001b[0m \u001b[0mjson\u001b[0m\u001b[0;34m\u001b[0m\u001b[0m\n\u001b[1;32m      3\u001b[0m \u001b[0;34m\u001b[0m\u001b[0m\n\u001b[1;32m      4\u001b[0m \u001b[0musername\u001b[0m\u001b[0;34m=\u001b[0m\u001b[0;34m\"Hide on bush\"\u001b[0m\u001b[0;34m\u001b[0m\u001b[0m\n\u001b[1;32m      5\u001b[0m \u001b[0;32mprint\u001b[0m \u001b[0;34m'https://kr.api.pvp.net/api/lol/kr/v1.4/summoner/by-name/username?api_key=<RGAPI-775febda-458a-4d19-871b-5ac0e91f1d4f>'\u001b[0m\u001b[0;34m\u001b[0m\u001b[0m\n",
      "\u001b[0;31mImportError\u001b[0m: No module named request"
     ]
    }
   ],
   "source": [
    "import urllib.request\n",
    "import json\n",
    "\n",
    "username=\"Hide on bush\"\n",
    "print 'https://kr.api.pvp.net/api/lol/kr/v1.4/summoner/by-name/username?api_key=<RGAPI-775febda-458a-4d19-871b-5ac0e91f1d4f>'"
   ]
  },
  {
   "cell_type": "code",
   "execution_count": 9,
   "metadata": {},
   "outputs": [
    {
     "ename": "ImportError",
     "evalue": "No module named request",
     "output_type": "error",
     "traceback": [
      "\u001b[0;31m---------------------------------------------------------------------------\u001b[0m",
      "\u001b[0;31mImportError\u001b[0m                               Traceback (most recent call last)",
      "\u001b[0;32m<ipython-input-9-179b65d2713b>\u001b[0m in \u001b[0;36m<module>\u001b[0;34m()\u001b[0m\n\u001b[0;32m----> 1\u001b[0;31m \u001b[0;32mimport\u001b[0m \u001b[0murllib\u001b[0m\u001b[0;34m.\u001b[0m\u001b[0mrequest\u001b[0m\u001b[0;34m\u001b[0m\u001b[0m\n\u001b[0m\u001b[1;32m      2\u001b[0m \u001b[0;32mimport\u001b[0m \u001b[0mrequests\u001b[0m\u001b[0;34m\u001b[0m\u001b[0m\n\u001b[1;32m      3\u001b[0m \u001b[0;32mimport\u001b[0m \u001b[0mjson\u001b[0m\u001b[0;34m\u001b[0m\u001b[0m\n\u001b[1;32m      4\u001b[0m \u001b[0;34m\u001b[0m\u001b[0m\n\u001b[1;32m      5\u001b[0m \u001b[0;32mdef\u001b[0m \u001b[0msearch_by_username\u001b[0m\u001b[0;34m(\u001b[0m\u001b[0minput_name\u001b[0m\u001b[0;34m)\u001b[0m\u001b[0;34m:\u001b[0m\u001b[0;34m\u001b[0m\u001b[0m\n",
      "\u001b[0;31mImportError\u001b[0m: No module named request"
     ]
    }
   ],
   "source": [
    "import urllib.request\n",
    "import requests\n",
    "import json\n",
    "\n",
    "def search_by_username(input_name):\n",
    "    apikey = 'RGAPI-775febda-458a-4d19-871b-5ac0e91f1d4f'\n",
    "    basic_url = 'https://kr.api.riotgames.com'\n",
    "    search_url = basic_url+'/lol/summoner/v4/summoners/by-name/{}?api_key={}'.format(input_name, apikey)\n",
    "    print(search_url)\n",
    "\n",
    "    data = requests.get(search_url)\n",
    "    print(data.text)\n",
    "\n",
    "    return\n",
    "\n",
    "if __name__=='__main__':\n",
    "    print(\"USERNAME?\")\n",
    "    name = input()\n",
    "    search_by_username(name)"
   ]
  },
  {
   "cell_type": "code",
   "execution_count": null,
   "metadata": {},
   "outputs": [],
   "source": []
  }
 ],
 "metadata": {
  "kernelspec": {
   "display_name": "Python 2",
   "language": "python",
   "name": "python2"
  },
  "language_info": {
   "codemirror_mode": {
    "name": "ipython",
    "version": 2
   },
   "file_extension": ".py",
   "mimetype": "text/x-python",
   "name": "python",
   "nbconvert_exporter": "python",
   "pygments_lexer": "ipython2",
   "version": "2.7.15"
  }
 },
 "nbformat": 4,
 "nbformat_minor": 2
}

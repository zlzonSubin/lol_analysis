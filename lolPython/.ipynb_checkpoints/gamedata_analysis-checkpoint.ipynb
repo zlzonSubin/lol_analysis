{
 "cells": [
  {
   "cell_type": "markdown",
   "metadata": {},
   "source": [
    "# 마스터 D점멸? F점멸?\n",
    "### D점멸은 { 'spell1Id' : 4 }  F점멸은 { 'spell2Id' : 4 }"
   ]
  },
  {
   "cell_type": "code",
   "execution_count": 9,
   "metadata": {},
   "outputs": [
    {
     "ename": "IndentationError",
     "evalue": "expected an indented block (<ipython-input-9-853507e5371e>, line 23)",
     "output_type": "error",
     "traceback": [
      "\u001b[0;36m  File \u001b[0;32m\"<ipython-input-9-853507e5371e>\"\u001b[0;36m, line \u001b[0;32m23\u001b[0m\n\u001b[0;31m    dic_converted_data = []\u001b[0m\n\u001b[0m                           ^\u001b[0m\n\u001b[0;31mIndentationError\u001b[0m\u001b[0;31m:\u001b[0m expected an indented block\n"
     ]
    }
   ],
   "source": [
    "import os\n",
    "import ast\n",
    "\n",
    "directory = os.getcwd() + '/gamedata/'\n",
    "\n",
    "data = set()\n",
    "\n",
    "for file in os.listdir(directory):\n",
    "    username = os.fsdecode(file)\n",
    "    each_dir = os.path.join(directory, username)\n",
    "    for file in os.listdir(each_dir):\n",
    "        sub_filename = os.fsdecode(file)\n",
    "        new_dir = directory + username + '/' + sub_filename\n",
    "        if \"_MASTER\" in new_dir:\n",
    "            print(new_dir)\n",
    "            with open(new_dir, encoding=\"UTF-8\") as f:\n",
    "                single_data = f.readlines()\n",
    "                for single_game in single_data:\n",
    "                    data.add(single_game)\n",
    "        else:\n",
    "            \n",
    "\n",
    "dic_converted_data = [] \n",
    "gameid_list = [] \n",
    "\n",
    "# 5849/6555\n",
    "for gamedata in data:\n",
    "    example = ast.literal_eval(gamedata)\n",
    "    gameid = example['gameId']\n",
    "\n",
    "    if gameid not in gameid_list:\n",
    "        gameid_list.append(gameid)\n",
    "        dic_converted_data.append(example)\n",
    "\n",
    "print(len(gameid_list))\n",
    "print(len(dic_converted_data))"
   ]
  },
  {
   "cell_type": "code",
   "execution_count": null,
   "metadata": {},
   "outputs": [],
   "source": []
  }
 ],
 "metadata": {
  "kernelspec": {
   "display_name": "Python 3",
   "language": "python",
   "name": "python3"
  },
  "language_info": {
   "codemirror_mode": {
    "name": "ipython",
    "version": 3
   },
   "file_extension": ".py",
   "mimetype": "text/x-python",
   "name": "python",
   "nbconvert_exporter": "python",
   "pygments_lexer": "ipython3",
   "version": "3.7.3"
  }
 },
 "nbformat": 4,
 "nbformat_minor": 2
}
